{
 "cells": [
  {
   "cell_type": "code",
   "execution_count": 5,
   "metadata": {},
   "outputs": [
    {
     "name": "stdout",
     "output_type": "stream",
     "text": [
      "Aleks\n",
      "Gangov\n",
      "37\n",
      "Bethesda\n"
     ]
    }
   ],
   "source": [
    "person={'first_name':'Aleks',\"last_name\":'Gangov','Age':37,'City':'Bethesda'}\n",
    "print(person['first_name'])\n",
    "print(person['last_name'])\n",
    "print(person['Age'])\n",
    "print(person['City'])"
   ]
  },
  {
   "cell_type": "code",
   "execution_count": 7,
   "metadata": {},
   "outputs": [
    {
     "name": "stdout",
     "output_type": "stream",
     "text": [
      "7\n"
     ]
    }
   ],
   "source": [
    "fav_numbers={'Ivan':7,'Petkan':8,'Dragan':4,'Grozdan':5,'valkan':6}\n",
    "print(fav_numbers['Ivan'])"
   ]
  },
  {
   "cell_type": "code",
   "execution_count": 17,
   "metadata": {},
   "outputs": [
    {
     "name": "stdout",
     "output_type": "stream",
     "text": [
      "Dictionary :dict\n",
      "list :list\n",
      "print :printing\n"
     ]
    }
   ],
   "source": [
    "glossary={'Dictionary':'dict','list':'list','print':'printing'}\n",
    "for word in glossary:\n",
    "    print(word+\" :\"+glossary[word])\n"
   ]
  },
  {
   "cell_type": "code",
   "execution_count": 21,
   "metadata": {},
   "outputs": [
    {
     "name": "stdout",
     "output_type": "stream",
     "text": [
      "\n",
      "Key: Dictionary\n",
      "Value: dict\n",
      "\n",
      "Key: list\n",
      "Value: list\n",
      "\n",
      "Key: print\n",
      "Value: printing\n"
     ]
    }
   ],
   "source": [
    "glossary={'Dictionary':'dict','list':'list','print':'printing'}\n",
    "for key, value in glossary.items():\n",
    "    print(\"\\nKey: \"+key)\n",
    "    print(\"Value: \"+value)"
   ]
  },
  {
   "cell_type": "code",
   "execution_count": 23,
   "metadata": {},
   "outputs": [
    {
     "name": "stdout",
     "output_type": "stream",
     "text": [
      "Danube runs through Many.\n",
      "Volga runs through Russia.\n",
      "Amazon runs through Brazil.\n"
     ]
    }
   ],
   "source": [
    "rivers={'Danube':\"Many\",\"Volga\":\"Russia\",\"Amazon\":\"Brazil\"}\n",
    "for river,country in rivers.items():\n",
    "    print(river.title()+\" runs through \"+country.title()+\".\")"
   ]
  },
  {
   "cell_type": "code",
   "execution_count": 24,
   "metadata": {},
   "outputs": [
    {
     "name": "stdout",
     "output_type": "stream",
     "text": [
      "{'first_name': 'Aleks', 'last_name': 'Gangov', 'Age': 37, 'City': 'Bethesda'}\n",
      "{'first_name': 'Vlad', 'last_name': 'Gangov', 'Age': 40, 'City': 'Pleven'}\n",
      "{'first_name': 'Angelina', 'last_name': 'Angelova', 'Age': 37, 'City': 'Bethesda'}\n"
     ]
    }
   ],
   "source": [
    "person_1={'first_name':'Aleks',\"last_name\":'Gangov','Age':37,'City':'Bethesda'}\n",
    "person_2={'first_name':'Vlad',\"last_name\":'Gangov','Age':40,'City':'Pleven'}\n",
    "person_3={'first_name':'Angelina',\"last_name\":'Angelova','Age':37,'City':'Bethesda'}\n",
    "people=[person_1,person_2,person_3]\n",
    "for ppl in people:\n",
    "    print(ppl)"
   ]
  },
  {
   "cell_type": "code",
   "execution_count": 26,
   "metadata": {},
   "outputs": [
    {
     "name": "stdout",
     "output_type": "stream",
     "text": [
      "{'kind': 'cat', 'owner': 'Aleks'}\n",
      "{'kind': 'dog', 'owner': 'Angelina'}\n",
      "{'kind': 'krava', 'owner': 'Yonko'}\n"
     ]
    }
   ],
   "source": [
    "Tincho={\"kind\":\"cat\",\"owner\":\"Aleks\"}\n",
    "Zima={\"kind\":\"dog\",\"owner\":\"Angelina\"}\n",
    "Subka={\"kind\":\"krava\",\"owner\":\"Yonko\"}\n",
    "pets=[Tincho,Zima,Subka]\n",
    "for pet in pets:\n",
    "    print(pet)"
   ]
  },
  {
   "cell_type": "code",
   "execution_count": 31,
   "metadata": {},
   "outputs": [
    {
     "name": "stdout",
     "output_type": "stream",
     "text": [
      "Aleks\n",
      "Budva\n",
      "Positano\n",
      "Vlad\n",
      "Pleven\n",
      "Sofia\n",
      "Angelina\n",
      "Edinburgh\n",
      "Ruse\n"
     ]
    }
   ],
   "source": [
    "Aleks={\"Place1\":\"Budva\",\"Place2\":\"Positano\"}\n",
    "Vlad={\"Place1\":\"Pleven\",\"Place2\":\"Sofia\"}\n",
    "Angelina={\"Place1\":\"Edinburgh\",\"Place2\":\"Ruse\"}\n",
    "favorite_places={'Aleks':[\"Budva\",\"Positano\"],'Vlad':[\"Pleven\",\"Sofia\"],'Angelina':[\"Edinburgh\",\"Ruse\"]}\n",
    "for key,value in favorite_places.items():\n",
    "    print(key.title())\n",
    "    for places in value:\n",
    "        print(places)"
   ]
  },
  {
   "cell_type": "code",
   "execution_count": 39,
   "metadata": {},
   "outputs": [
    {
     "name": "stdout",
     "output_type": "stream",
     "text": [
      "Pleven\n",
      "{'country': 'bulgaria', 'population': '130K', 'fact': 'big battle'}\n",
      "Bethesda\n",
      "{'country': 'usa', 'population': '130K', 'fact': 'nice'}\n",
      "Sofia\n",
      "{'country': 'bulgaria', 'population': '1130K', 'fact': 'capital'}\n"
     ]
    }
   ],
   "source": [
    "cities={\"pleven\":{\"country\":\"bulgaria\",\"population\":\"130K\",\"fact\":\"big battle\"},\n",
    "       \"bethesda\":{\"country\":\"usa\",\"population\":\"130K\",\"fact\":\"nice\"},\n",
    "       \"sofia\":{\"country\":\"bulgaria\",\"population\":\"1130K\",\"fact\":\"capital\"}}\n",
    "for city,info in cities.items():\n",
    "    print(city.title())\n",
    "    print(info)\n",
    "            "
   ]
  },
  {
   "cell_type": "code",
   "execution_count": null,
   "metadata": {},
   "outputs": [],
   "source": []
  }
 ],
 "metadata": {
  "kernelspec": {
   "display_name": "Python 3",
   "language": "python",
   "name": "python3"
  },
  "language_info": {
   "codemirror_mode": {
    "name": "ipython",
    "version": 3
   },
   "file_extension": ".py",
   "mimetype": "text/x-python",
   "name": "python",
   "nbconvert_exporter": "python",
   "pygments_lexer": "ipython3",
   "version": "3.7.6"
  }
 },
 "nbformat": 4,
 "nbformat_minor": 4
}
